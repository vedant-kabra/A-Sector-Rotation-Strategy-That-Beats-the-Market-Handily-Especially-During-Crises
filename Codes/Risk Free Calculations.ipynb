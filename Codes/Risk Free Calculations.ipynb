{
 "cells": [
  {
   "cell_type": "code",
   "execution_count": null,
   "metadata": {},
   "outputs": [],
   "source": [
    "rfrate=tb[tb.index.date<pd.to_datetime('2020-07-01')].mean()*25000\n",
    "print(\"Entire Data \",rfrate[0].round(2))\n",
    "rfrate1=tb[tb.index.date<pd.to_datetime('2002-10-01')].mean()*25000\n",
    "print(\"Millennial Recession \",rfrate1[0].round(2))\n",
    "rfrate2=tb[(tb.index.date>=pd.to_datetime('2007-12-01')) & (tb.index.date<pd.to_datetime('2009-07-01'))].mean()*25000\n",
    "print(\"Great Recession \",rfrate2[0].round(2))\n",
    "rfrate3=tb[(tb.index.date>=pd.to_datetime('2020-02-01')) & (tb.index.date<pd.to_datetime('2020-07-01'))].mean()*25000\n",
    "print(\"Covid-19 \",rfrate3[0].round(2))"
   ]
  },
  {
   "cell_type": "markdown",
   "metadata": {},
   "source": []
  },
  {
   "cell_type": "code",
   "execution_count": null,
   "metadata": {},
   "outputs": [],
   "source": []
  }
 ],
 "metadata": {
  "kernelspec": {
   "display_name": "Python 3",
   "language": "python",
   "name": "python3"
  },
  "language_info": {
   "codemirror_mode": {
    "name": "ipython",
    "version": 3
   },
   "file_extension": ".py",
   "mimetype": "text/x-python",
   "name": "python",
   "nbconvert_exporter": "python",
   "pygments_lexer": "ipython3",
   "version": "3.7.6"
  }
 },
 "nbformat": 4,
 "nbformat_minor": 4
}
