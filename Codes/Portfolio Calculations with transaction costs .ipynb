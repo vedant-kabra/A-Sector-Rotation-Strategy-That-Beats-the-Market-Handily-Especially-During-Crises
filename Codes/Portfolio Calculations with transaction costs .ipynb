{
 "cells": [
  {
   "cell_type": "markdown",
   "metadata": {},
   "source": [
    "# Portfolio Calculations"
   ]
  },
  {
   "cell_type": "markdown",
   "metadata": {},
   "source": [
    "### Self-switching"
   ]
  },
  {
   "cell_type": "markdown",
   "metadata": {},
   "source": [
    "### Fixed - Weight Rotating Portfolio switching to Bonds (AGG) in High Volatility (S1)"
   ]
  },
  {
   "cell_type": "code",
   "execution_count": null,
   "metadata": {},
   "outputs": [],
   "source": [
    "syn_rets=[pd.DataFrame(columns=['Returns','SwitchResult'],index=c2cc1.index) for i in range(9)]\n",
    "for i in range(1,5411):\n",
    "    for etf in range(9):\n",
    "        if ss[etflist[etf]][i-1]==0:\n",
    "            syn_rets[etf].Returns[i]=c2cc1[etflist[etf]][i]\n",
    "            syn_rets[etf].SwitchResult[i]=etflist[etf]\n",
    "        else:\n",
    "            syn_rets[etf].Returns[i]=c2cc1.AGG[i]\n",
    "            syn_rets[etf].SwitchResult[i]='AGG'\n",
    "\n",
    "print(syn_rets)\n",
    "\n",
    "asyntheticRets=pd.DataFrame(zip(syn_rets[0].Returns,syn_rets[1].Returns,syn_rets[2].Returns,syn_rets[3].Returns,syn_rets[4].Returns,syn_rets[5].Returns,syn_rets[6].Returns,syn_rets[7].Returns,syn_rets[8].Returns),columns=etflist)\n",
    "asyntheticRets.index=c2cc1.index\n",
    "\n",
    "asyntheticRets['eqWtRotPortRet']=asyntheticRets[etflist].mean(axis=1)\n",
    "asyntheticRets=asyntheticRets.dropna()\n",
    "\n",
    "asyntheticRets['eqWtRotPortRet'].describe()\n",
    "\n",
    "asyntheticRets\n",
    "\n",
    "# With Transaction Costs in Place\n",
    "asyntheticRets['eqWtRotPortRet']-=newh.Trades\n",
    "asyntheticRets\n",
    "\n",
    "#Entire Data\n",
    "asyntheticRets[asyntheticRets.index<pd.to_datetime('2020-07-01')]['eqWtRotPortRet'].describe()\n",
    "# Millenial Recession\n",
    "print(asyntheticRets[asyntheticRets.index.date<pd.to_datetime('2002-10-01')]['eqWtRotPortRet'].describe())\n",
    "# Great Recession\n",
    "print(asyntheticRets[(asyntheticRets.index.date>=pd.to_datetime('2007-12-01')) & (asyntheticRets.index.date<pd.to_datetime('2009-07-01'))]['eqWtRotPortRet'].describe())\n",
    "# COVID19\n",
    "print(asyntheticRets[(asyntheticRets.index.date>=pd.to_datetime('2020-02-01')) & (asyntheticRets.index<pd.to_datetime('2020-07-01'))]['eqWtRotPortRet'].describe())"
   ]
  },
  {
   "cell_type": "markdown",
   "metadata": {},
   "source": [
    "### Fixed - Weight Rotating Portfolio switching to Bonds (AGG) in Low Volatility (S2)"
   ]
  },
  {
   "cell_type": "code",
   "execution_count": null,
   "metadata": {},
   "outputs": [],
   "source": [
    "syn_retVs=[pd.DataFrame(columns=['Returns','SwitchResult'],index=c2cc1.index) for i in range(9)]\n",
    "for etf in range(9):\n",
    "    for i in range(1, 5411):\n",
    "        if ss[etflist[etf]][i-1]==0:\n",
    "            syn_retVs[etf].Returns[i]=c2cc1[etflist[etf]][i]\n",
    "            syn_retVs[etf].SwitchResult[i]=etflist[etf]\n",
    "        else:\n",
    "            syn_retVs[etf].Returns[i]=np.nan\n",
    "            syn_retVs[etf].SwitchResult[i]='AGG'\n",
    "print(syn_retVs)\n",
    "\n",
    "asyntheticRetVPs=pd.DataFrame(zip(syn_retVs[0].Returns,syn_retVs[1].Returns,syn_retVs[2].Returns,syn_retVs[3].Returns,syn_retVs[4].Returns,syn_retVs[5].Returns,syn_retVs[6].Returns,syn_retVs[7].Returns,syn_retVs[8].Returns),columns=etflist)\n",
    "asyntheticRetVPs.index=c2cc1.index\n",
    "# All places where returns have been switched to AGG have been replaced to NaN\n",
    "print(asyntheticRetVPs)\n",
    "\n",
    "# Calculating variable weight rotating portfolio returns\n",
    "asyntheticRetVPs['varWtRotatingPort']=asyntheticRetVPs[etflist].mean(axis=1)\n",
    "asyntheticRetVPs=asyntheticRetVPs[1:]\n",
    "\n",
    "# Now changing all NaN values in the 'varWtRotatingPort' to AGG returns at that period\n",
    "asyntheticRetVPs['varWtRotatingPort'][asyntheticRetVPs['varWtRotatingPort'].isnull()==True]\n",
    "\n",
    "for i in range(5410):\n",
    "    if (pd.isnull(asyntheticRetVPs['varWtRotatingPort'][i])==True):\n",
    "        asyntheticRetVPs['varWtRotatingPort'][i]=c2cc1.AGG[i]\n",
    "\n",
    "print(asyntheticRetVPs.info())\n",
    "asyntheticRetVPs['varWtRotatingPort'].describe()\n",
    "\n",
    "# With Transaction Costs in Place\n",
    "asyntheticRetVPs['varWtRotatingPort']-=newh_.Trades\n",
    "asyntheticRetVPs\n",
    "\n",
    "# Entire Data\n",
    "asyntheticRetVPs[asyntheticRetVPs.index<pd.to_datetime('2020-07-01')]['varWtRotatingPort'].describe()\n",
    "# Dotcom\n",
    "print(asyntheticRetVPs[asyntheticRetVPs.index.date<pd.to_datetime('2002-10-01')]['varWtRotatingPort'].describe())\n",
    "# Great Recession\n",
    "print(asyntheticRetVPs[(asyntheticRetVPs.index.date>=pd.to_datetime('2007-12-01')) & (asyntheticRetVPs.index.date<pd.to_datetime('2009-07-01'))]['varWtRotatingPort'].describe())\n",
    "# COVID19\n",
    "print(asyntheticRetVPs[(asyntheticRetVPs.index.date>=pd.to_datetime('2020-02-01')) & (asyntheticRetVPs.index<pd.to_datetime('2020-07-01'))]['varWtRotatingPort'].describe())"
   ]
  },
  {
   "cell_type": "markdown",
   "metadata": {},
   "source": [
    "### Variable - Weight Rotating Portfolio switching to Bonds (AGG) in High Volatility (S3)"
   ]
  },
  {
   "cell_type": "code",
   "execution_count": null,
   "metadata": {},
   "outputs": [],
   "source": [
    "syn_ret2s=[pd.DataFrame(columns=['Returns','SwitchResult'],index=c2cc1.index) for i in range(9)]\n",
    "for etf in range(9):\n",
    "    for i in range(1, 5411):\n",
    "        if ss[etflist[etf]][i-1]==1:\n",
    "            syn_ret2s[etf].Returns[i]=c2cc1[etflist[etf]][i]\n",
    "            syn_ret2s[etf].SwitchResult[i]=etflist[etf]\n",
    "        else:\n",
    "            syn_ret2s[etf].Returns[i]=c2cc1.AGG[i]\n",
    "            syn_ret2s[etf].SwitchResult[i]='AGG'\n",
    "print(syn_ret2s)\n",
    "\n",
    "asyntheticRet2s=pd.DataFrame(zip(syn_ret2s[0].Returns,syn_ret2s[1].Returns,syn_ret2s[2].Returns,syn_ret2s[3].Returns,syn_ret2s[4].Returns,syn_ret2s[5].Returns,syn_ret2s[6].Returns,syn_ret2s[7].Returns,syn_ret2s[8].Returns),columns=etflist)\n",
    "\n",
    "asyntheticRet2s.index=c2cc1.index\n",
    "\n",
    "asyntheticRet2s['eqWtRotPortRet']=asyntheticRet2s[etflist].mean(axis=1)\n",
    "asyntheticRet2s=asyntheticRet2s.dropna()\n",
    "\n",
    "asyntheticRet2s['eqWtRotPortRet'].describe()\n",
    "\n",
    "# With Transaction Costs in Place\n",
    "asyntheticRet2s['eqWtRotPortRet']-=newl.Trades\n",
    "asyntheticRet2s\n",
    "\n",
    "# Entire Data\n",
    "asyntheticRet2s[asyntheticRet2s.index<pd.to_datetime('2020-07-01')]['eqWtRotPortRet'].describe()\n",
    "# Dotcom\n",
    "print(asyntheticRet2s[asyntheticRet2s.index.date<pd.to_datetime('2002-10-01')]['eqWtRotPortRet'].describe())\n",
    "# Great Recession\n",
    "print(asyntheticRet2s[(asyntheticRet2s.index.date>=pd.to_datetime('2007-12-01')) & (asyntheticRet2s.index.date<pd.to_datetime('2009-07-01'))]['eqWtRotPortRet'].describe())\n",
    "# COVID19\n",
    "print(asyntheticRet2s[(asyntheticRet2s.index.date>=pd.to_datetime('2020-02-01')) & (asyntheticRet2s.index<pd.to_datetime('2020-07-01'))]['eqWtRotPortRet'].describe())"
   ]
  },
  {
   "cell_type": "markdown",
   "metadata": {},
   "source": [
    "### Variable - Weight Rotating Portfolio switching to Bonds (AGG) in Low Volatility (S4)"
   ]
  },
  {
   "cell_type": "code",
   "execution_count": null,
   "metadata": {},
   "outputs": [],
   "source": [
    "syn_retV2s=[pd.DataFrame(columns=['Returns','SwitchResult'],index=c2cc1.index) for i in range(9)]\n",
    "for etf in range(9):\n",
    "    for i in range(1, 5411):\n",
    "        if ss[etflist[etf]][i-1]==1:\n",
    "            syn_retV2s[etf].Returns[i]=c2cc1[etflist[etf]][i]\n",
    "            syn_retV2s[etf].SwitchResult[i]=etflist[etf]\n",
    "        else:\n",
    "            syn_retV2s[etf].Returns[i]=np.nan\n",
    "            syn_retV2s[etf].SwitchResult[i]='AGG'\n",
    "print(syn_retV2s)\n",
    "\n",
    "asyntheticRetVP2s=pd.DataFrame(zip(syn_retV2s[0].Returns,syn_retV2s[1].Returns,syn_retV2s[2].Returns,syn_retV2s[3].Returns,syn_retV2s[4].Returns,syn_retV2s[5].Returns,syn_retV2s[6].Returns,syn_retV2s[7].Returns,syn_retV2s[8].Returns),columns=etflist)\n",
    "asyntheticRetVP2s.index=c2cc1.index\n",
    "# All places where returns have been switched to agg have been replaced to NaN\n",
    "print(asyntheticRetVP2s)\n",
    "\n",
    "# Calculating variable weight rotating portfolio returns\n",
    "asyntheticRetVP2s['varWtRotatingPort']=asyntheticRetVP2s[etflist].mean(axis=1)\n",
    "asyntheticRetVP2s=asyntheticRetVP2s[1:]\n",
    "\n",
    "# Now changing all NaN values in the 'varWtRotatingPort' to agg returns at that period\n",
    "asyntheticRetVP2s['varWtRotatingPort'][asyntheticRetVP2s['varWtRotatingPort'].isnull()==True]\n",
    "\n",
    "for i in range(5407):\n",
    "    if (pd.isnull(asyntheticRetVP2s['varWtRotatingPort'][i])==True):\n",
    "        asyntheticRetVP2s['varWtRotatingPort'][i]=c2cc1.AGG[i]\n",
    "\n",
    "print(asyntheticRetVP2s.varWtRotatingPort.describe())\n",
    "asyntheticRetVP2s\n",
    "\n",
    "# With Transaction Costs in Place\n",
    "asyntheticRetVP2s['varWtRotatingPort']-=newl_.Trades\n",
    "asyntheticRetVP2s\n",
    "\n",
    "# Entire Period\n",
    "asyntheticRetVP2s[asyntheticRetVP2s.index<pd.to_datetime('2020-07-01')].varWtRotatingPort.describe()\n",
    "# Dotcom\n",
    "print(asyntheticRetVP2s[asyntheticRetVP2s.index.date<pd.to_datetime('2002-10-01')]['varWtRotatingPort'].describe())\n",
    "# Great Recession\n",
    "print(asyntheticRetVP2s[(asyntheticRetVP2s.index.date>=pd.to_datetime('2007-12-01')) & (asyntheticRetVP2s.index.date<pd.to_datetime('2009-07-01'))]['varWtRotatingPort'].describe())\n",
    "# COVID19\n",
    "print(asyntheticRetVP2s[(asyntheticRetVP2s.index.date>=pd.to_datetime('2020-02-01')) & (asyntheticRetVP2s.index<pd.to_datetime('2020-07-01'))]['varWtRotatingPort'].describe())"
   ]
  },
  {
   "cell_type": "markdown",
   "metadata": {},
   "source": [
    "### VIX switching"
   ]
  },
  {
   "cell_type": "markdown",
   "metadata": {},
   "source": [
    "### Dynamic VIX Rotating Portfolio switching to Bonds (AGG) in High Volatility (V1)"
   ]
  },
  {
   "cell_type": "code",
   "execution_count": null,
   "metadata": {},
   "outputs": [],
   "source": [
    "Dynamic VIX Rotating Portfolio switching to Bonds (AGG) in High Volatility (V1)\n",
    "\n",
    "asyntheticRetVIXs=c2cc1[c2cc1.columns[:-1]]\n",
    "for i in range(1, 5411):\n",
    "    if vs.probadj[i-1]==1:\n",
    "        for etf in etflist:\n",
    "            asyntheticRetVIXs[etf][i]=c2cc1.AGG[i]\n",
    "    else:\n",
    "        continue\n",
    "asyntheticRetVIXs['RotatingPortfolio']=asyntheticRetVIXs.mean(axis=1)\n",
    "asyntheticRetVIXs=asyntheticRetVIXs[1:]\n",
    "asyntheticRetVIXs.describe()\n",
    "\n",
    "# With Transaction Costs in Place\n",
    "asyntheticRetVIXs['RotatingPortfolio']-=newvh.Trades\n",
    "# Entire Data\n",
    "asyntheticRetVIXs[asyntheticRetVIXs.index.date<pd.to_datetime('2020-07-01')].describe()\n",
    "# Dotcom\n",
    "print(asyntheticRetVIXs[asyntheticRetVIXs.index.date<pd.to_datetime('2002-10-01')]['RotatingPortfolio'].describe())\n",
    "# Great Recession\n",
    "print(asyntheticRetVIXs[(asyntheticRetVIXs.index.date>=pd.to_datetime('2007-12-01')) & (asyntheticRetVIXs.index.date<pd.to_datetime('2009-07-01'))]['RotatingPortfolio'].describe())\n",
    "# COVID19\n",
    "print(asyntheticRetVIXs[(asyntheticRetVIXs.index.date>=pd.to_datetime('2020-02-01')) & (asyntheticRetVIXs.index.date<pd.to_datetime('2020-07-01'))]['RotatingPortfolio'].describe())"
   ]
  },
  {
   "cell_type": "markdown",
   "metadata": {},
   "source": [
    "### Dynamic VIX Rotating Portfolio switching to Bonds (AGG) in Low Volatility (V2)"
   ]
  },
  {
   "cell_type": "code",
   "execution_count": null,
   "metadata": {},
   "outputs": [],
   "source": [
    "asyntheticRetVIXs=c2cc1[c2cc1.columns[:-1]]\n",
    "for i in range(1, 5411):\n",
    "    if vs.probadj[i-1]==1:\n",
    "        for etf in etflist:\n",
    "            asyntheticRetVIXs[etf][i]=c2cc1.AGG[i]\n",
    "    else:\n",
    "        continue\n",
    "asyntheticRetVIXs['RotatingPortfolio']=asyntheticRetVIXs.mean(axis=1)\n",
    "asyntheticRetVIXs=asyntheticRetVIXs[1:]\n",
    "asyntheticRetVIXs.describe()\n",
    "\n",
    "# With Transaction Costs in Place\n",
    "asyntheticRetVIXs['RotatingPortfolio']-=newvh.Trades\n",
    "\n",
    "# Entire Data\n",
    "asyntheticRetVIXs[asyntheticRetVIXs.index.date<pd.to_datetime('2020-07-01')].describe()\n",
    "# Dotcom\n",
    "print(asyntheticRetVIXs[asyntheticRetVIXs.index.date<pd.to_datetime('2002-10-01')]['RotatingPortfolio'].describe())\n",
    "# Great Recession\n",
    "print(asyntheticRetVIXs[(asyntheticRetVIXs.index.date>=pd.to_datetime('2007-12-01')) & (asyntheticRetVIXs.index.date<pd.to_datetime('2009-07-01'))]['RotatingPortfolio'].describe())\n",
    "# COVID19\n",
    "print(asyntheticRetVIXs[(asyntheticRetVIXs.index.date>=pd.to_datetime('2020-02-01')) & (asyntheticRetVIXs.index.date<pd.to_datetime('2020-07-01'))]['RotatingPortfolio'].describe())"
   ]
  },
  {
   "cell_type": "markdown",
   "metadata": {},
   "source": [
    "# transaction costs "
   ]
  },
  {
   "cell_type": "markdown",
   "metadata": {},
   "source": [
    "#### Self switching"
   ]
  },
  {
   "cell_type": "code",
   "execution_count": null,
   "metadata": {},
   "outputs": [],
   "source": [
    "\n",
    "etflist=['XLB','XLE','XLF','XLI','XLK','XLP','XLU','XLV','XLY']\n",
    "def trades(df,switchstate,port='f'):\n",
    "    df['Trades']=np.nan\n",
    "    for j in range(2,5411):\n",
    "        b=0\n",
    "        for i in etflist:\n",
    "            if df[i][j-1]==df[i][j-2]:\n",
    "                continue\n",
    "            else:\n",
    "                b=b+1\n",
    "        df.Trades[j]=b\n",
    "        if b>0:\n",
    "            df.Trades[j]+=1\n",
    "    if switchstate==1:\n",
    "        df.Trades[1]=df[0:1].sum(axis=1)\n",
    "    else:\n",
    "        df.Trades[1]=9-df[0:1].sum(axis=1)\n",
    "    if (df.Trades[1]>0) & (port!='v') :\n",
    "        df.Trades[1]+=1\n",
    "    df.Trades=df.Trades*(0.00001)\n",
    "    df=df.dropna()\n",
    "    return df\n",
    "\n",
    "newh=trades(ss[ss.columns[:-2]],1)\n",
    "newh_=trades(ss[ss.columns[:-2]],1,'v')\n",
    "newl=trades(ss[ss.columns[:-2]],0)\n",
    "newl_=trades(ss[ss.columns[:-2]],0,'v')"
   ]
  },
  {
   "cell_type": "markdown",
   "metadata": {},
   "source": [
    "#### VIX switching"
   ]
  },
  {
   "cell_type": "code",
   "execution_count": null,
   "metadata": {},
   "outputs": [],
   "source": [
    "def tradesv(df,switchstate):\n",
    "    df['Trades']=np.nan\n",
    "    for j in range(2,5411):\n",
    "        b=0\n",
    "        if df.probadj[j-1]==df.probadj[j-2]:\n",
    "            b=0\n",
    "        else:\n",
    "            b=10\n",
    "        df.Trades[j]=b\n",
    "    if df.probadj[0]==switchstate:\n",
    "        df.Trades[1]=10\n",
    "    else:\n",
    "        df.Trades[1]=0\n",
    "    df.Trades=df.Trades*(0.00001)\n",
    "    df=df.dropna()\n",
    "    return df\n",
    "\n",
    "newvh=tradesv(vs[['probadj']],1)\n",
    "newvh\n",
    "newvl=tradesv(vs[['probadj']],0)\n",
    "newvl"
   ]
  },
  {
   "cell_type": "markdown",
   "metadata": {},
   "source": [
    "### Joining ETF's and securities "
   ]
  },
  {
   "cell_type": "code",
   "execution_count": null,
   "metadata": {},
   "outputs": [],
   "source": [
    "# copy of c2c\n",
    "c2cc1=c2c\n",
    "c2cc1=c2cc1.join(agg,how='inner')\n",
    "c2cc1"
   ]
  }
 ],
 "metadata": {
  "kernelspec": {
   "display_name": "Python 3",
   "language": "python",
   "name": "python3"
  },
  "language_info": {
   "codemirror_mode": {
    "name": "ipython",
    "version": 3
   },
   "file_extension": ".py",
   "mimetype": "text/x-python",
   "name": "python",
   "nbconvert_exporter": "python",
   "pygments_lexer": "ipython3",
   "version": "3.7.6"
  }
 },
 "nbformat": 4,
 "nbformat_minor": 4
}
